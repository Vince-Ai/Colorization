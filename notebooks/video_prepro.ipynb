{
 "cells": [
  {
   "cell_type": "markdown",
   "metadata": {},
   "source": [
    "# Video Pre-Processing"
   ]
  },
  {
   "cell_type": "code",
   "execution_count": 3,
   "metadata": {},
   "outputs": [],
   "source": [
    "import os, sys\n",
    "import cv2\n",
    "import numpy as np\n",
    "sys.path.append(\"../\")\n",
    "from utils.v2i import convert_video_to_frames, convert_frames_to_video\n",
    "from PIL import Image, ImageOps"
   ]
  },
  {
   "cell_type": "markdown",
   "metadata": {},
   "source": [
    "## MP4 to Frames"
   ]
  },
  {
   "cell_type": "code",
   "execution_count": 6,
   "metadata": {},
   "outputs": [],
   "source": [
    "VIDEO_NAME = \"yosemite-short\"\n",
    "DIR = \"../test\"\n",
    "\n",
    "convert_video_to_frames(os.path.join(DIR, VIDEO_NAME + \".mp4\"), os.path.join(DIR, VIDEO_NAME + \"-original\"))\n",
    "\n",
    "frames = sorted(os.listdir(os.path.join(DIR, VIDEO_NAME + \"-original\")))\n",
    "\n",
    "for frame in frames:\n",
    "    f = Image.open(os.path.join(DIR, VIDEO_NAME + \"-original\", frame))\n",
    "    gray_image = ImageOps.grayscale(f)\n",
    "    gray_image.save(os.path.join(DIR, VIDEO_NAME + \"-original\", frame))\n"
   ]
  }
 ],
 "metadata": {
  "interpreter": {
   "hash": "189fd69765f0fd89b2713b9afa90d91317e65ce7ee286ac845775eb9093f307d"
  },
  "kernelspec": {
   "display_name": "Python 3.9.7 ('dvp')",
   "language": "python",
   "name": "python3"
  },
  "language_info": {
   "codemirror_mode": {
    "name": "ipython",
    "version": 3
   },
   "file_extension": ".py",
   "mimetype": "text/x-python",
   "name": "python",
   "nbconvert_exporter": "python",
   "pygments_lexer": "ipython3",
   "version": "3.9.7"
  },
  "orig_nbformat": 4
 },
 "nbformat": 4,
 "nbformat_minor": 2
}
