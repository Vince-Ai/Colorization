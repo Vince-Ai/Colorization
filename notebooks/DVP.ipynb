{
 "cells": [
  {
   "cell_type": "code",
   "execution_count": 1,
   "metadata": {},
   "outputs": [],
   "source": [
    "import os, sys\n",
    "import cv2\n",
    "import numpy as np\n",
    "sys.path.append(\"../\")\n",
    "from utils.v2i import convert_video_to_frames, convert_frames_to_video"
   ]
  },
  {
   "cell_type": "code",
   "execution_count": 5,
   "metadata": {},
   "outputs": [
    {
     "name": "stderr",
     "output_type": "stream",
     "text": [
      "OpenCV: FFMPEG: tag 0x44495658/'XVID' is not supported with codec id 12 and format 'mp4 / MP4 (MPEG-4 Part 14)'\n",
      "OpenCV: FFMPEG: fallback to use tag 0x7634706d/'mp4v'\n"
     ]
    }
   ],
   "source": [
    "frames = [f\"predictions_{str(i).zfill(5)}.jpg\" for i in range(90)]\n",
    "frames_path = \"../test\"\n",
    "video_name = \"../test/test.mp4\"\n",
    "convert_frames_to_video(frames_path, frames, video_name)"
   ]
  }
 ],
 "metadata": {
  "interpreter": {
   "hash": "8b796a5e1a132f1fd8f5173cf9d98282f511b2fd8c82b716626a298068fb4e36"
  },
  "kernelspec": {
   "display_name": "Python 3.9.2 ('python392')",
   "language": "python",
   "name": "python3"
  },
  "language_info": {
   "codemirror_mode": {
    "name": "ipython",
    "version": 3
   },
   "file_extension": ".py",
   "mimetype": "text/x-python",
   "name": "python",
   "nbconvert_exporter": "python",
   "pygments_lexer": "ipython3",
   "version": "3.9.2"
  },
  "orig_nbformat": 4
 },
 "nbformat": 4,
 "nbformat_minor": 2
}
