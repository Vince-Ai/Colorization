{
 "cells": [
  {
   "cell_type": "markdown",
   "metadata": {},
   "source": [
    "# Colorful Image Colorization\n",
    "\n",
    "instacolor's environment is good for this algorithm"
   ]
  },
  {
   "cell_type": "code",
   "execution_count": 2,
   "metadata": {},
   "outputs": [],
   "source": [
    "import matplotlib.pyplot as plt\n",
    "import sys, os\n",
    "sys.path.append(\"../\")\n",
    "from models.colorizers import siggraph17\n",
    "from models.colorizers.util import *"
   ]
  },
  {
   "cell_type": "code",
   "execution_count": 3,
   "metadata": {},
   "outputs": [],
   "source": [
    "colorizer_siggraph17 = siggraph17(pretrained=True).eval()\n",
    "_ = colorizer_siggraph17.cuda()"
   ]
  },
  {
   "cell_type": "code",
   "execution_count": 4,
   "metadata": {},
   "outputs": [
    {
     "data": {
      "text/plain": [
       "['frame00000.jpg', 'frame00001.jpg']"
      ]
     },
     "execution_count": 4,
     "metadata": {},
     "output_type": "execute_result"
    }
   ],
   "source": [
    "VIDEO_NAME = \"yosemite-short\"\n",
    "INPUT_PATH = f\"../test/{VIDEO_NAME}-original/\"\n",
    "OUTPUT_PATH = f\"../test/{VIDEO_NAME}-colorized/\"\n",
    "if not os.path.isdir(OUTPUT_PATH):\n",
    "    os.makedirs(OUTPUT_PATH)\n",
    "\n",
    "frames = os.listdir(INPUT_PATH)\n",
    "frames.sort()\n",
    "frames[:2]"
   ]
  },
  {
   "cell_type": "code",
   "execution_count": 5,
   "metadata": {},
   "outputs": [],
   "source": [
    "def colorize(path):\n",
    "    img = load_img(path)\n",
    "    (tens_l_orig, tens_l_rs) = preprocess_img(img, HW=(256,256))\n",
    "    tens_l_rs = tens_l_rs.cuda()\n",
    "    out_img_siggraph17 = postprocess_tens(tens_l_orig, colorizer_siggraph17(tens_l_rs).cpu())\n",
    "    return out_img_siggraph17"
   ]
  },
  {
   "cell_type": "code",
   "execution_count": 6,
   "metadata": {},
   "outputs": [
    {
     "name": "stderr",
     "output_type": "stream",
     "text": [
      "/home/tonyx/Utils/anaconda3/envs/instacolor/lib/python3.9/site-packages/torch/nn/functional.py:3631: UserWarning: Default upsampling behavior when mode=bilinear is changed to align_corners=False since 0.4.0. Please specify align_corners=True if the old behavior is desired. See the documentation of nn.Upsample for details.\n",
      "  warnings.warn(\n"
     ]
    }
   ],
   "source": [
    "for frame in frames:\n",
    "    colorized = colorize(os.path.join(INPUT_PATH, frame))\n",
    "    plt.imsave(os.path.join(OUTPUT_PATH, frame), colorized)"
   ]
  }
 ],
 "metadata": {
  "interpreter": {
   "hash": "d66f20e7d73dbe1af3ef7c28c682f3f96a708e845fb78d9a29b2de937addae0a"
  },
  "kernelspec": {
   "display_name": "Python 3.9.7 ('instacolor')",
   "language": "python",
   "name": "python3"
  },
  "language_info": {
   "codemirror_mode": {
    "name": "ipython",
    "version": 3
   },
   "file_extension": ".py",
   "mimetype": "text/x-python",
   "name": "python",
   "nbconvert_exporter": "python",
   "pygments_lexer": "ipython3",
   "version": "3.9.7"
  },
  "orig_nbformat": 4
 },
 "nbformat": 4,
 "nbformat_minor": 2
}
